{
 "cells": [
  {
   "cell_type": "markdown",
   "metadata": {},
   "source": [
    "# CS263 Final Project Notebook 1\n",
    "\n",
    "## Data pre-processing\n",
    "\n",
    "Please update the paths before running this notebook. You can get the files here: https://github.com/iangalvez/cs263-vlm-radiology-eval/tree/main"
   ]
  },
  {
   "cell_type": "code",
   "execution_count": null,
   "metadata": {
    "colab": {
     "base_uri": "https://localhost:8080/"
    },
    "id": "HycYGMVOD3io",
    "outputId": "d94b32db-f714-4d52-90c0-099be4c12024"
   },
   "outputs": [
    {
     "name": "stdout",
     "output_type": "stream",
     "text": [
      "Mounted at /content/drive\n"
     ]
    }
   ],
   "source": [
    "from google.colab import drive\n",
    "drive.mount('/content/drive')"
   ]
  },
  {
   "cell_type": "code",
   "execution_count": null,
   "metadata": {
    "colab": {
     "base_uri": "https://localhost:8080/"
    },
    "id": "yJWA8qdqD-pv",
    "outputId": "86735624-e3cd-4e1e-a01d-87eb3acf2704"
   },
   "outputs": [
    {
     "name": "stdout",
     "output_type": "stream",
     "text": [
      "/content/drive/MyDrive/Graduate/CS263_NLP/FinalProj\n"
     ]
    }
   ],
   "source": [
    "cd /content/drive/MyDrive/Graduate/CS263_NLP/FinalProj/"
   ]
  },
  {
   "cell_type": "code",
   "execution_count": null,
   "metadata": {
    "id": "EgwezXq_oJBm"
   },
   "outputs": [],
   "source": [
    "!pip install pydicom"
   ]
  },
  {
   "cell_type": "code",
   "execution_count": null,
   "metadata": {
    "id": "aW6cPsnvbqfY"
   },
   "outputs": [],
   "source": [
    "import os, json\n",
    "names = os.listdir('/content/drive/MyDrive/Graduate/CS263_NLP/FinalProj/MIMIC-CXR-filtered (1)')\n",
    "for name in names:\n",
    "  json_file = os.path.join('/content/drive/MyDrive/Graduate/CS263_NLP/FinalProj/MIMIC-CXR-filtered (1)', name, name + '.json')\n",
    "  with open(json_file, 'r') as json_file:\n",
    "    report = json.load(json_file)\n",
    "  print(name)\n",
    "  print('FINDINGS:',report['FINDINGS'])\n",
    "  print('INDICATION:',report['INDICATION'])\n",
    "  print('\\n')"
   ]
  },
  {
   "cell_type": "code",
   "execution_count": null,
   "metadata": {
    "colab": {
     "base_uri": "https://localhost:8080/"
    },
    "id": "j6Gzm4L0G9tJ",
    "outputId": "161d166c-dda1-4c07-8fc9-2dea9a1e2dc9"
   },
   "outputs": [
    {
     "name": "stdout",
     "output_type": "stream",
     "text": [
      "58\n"
     ]
    }
   ],
   "source": [
    "import json\n",
    "from glob import glob\n",
    "import os\n",
    "import shutil\n",
    "save_root = '/content/drive/MyDrive/Graduate/CS263_NLP/FinalProj/MIMIC-CXR-filtered/'\n",
    "cases = glob('/content/drive/MyDrive/Graduate/CS263_NLP/FinalProj/MIMIC-CXR-processed/*')\n",
    "case_ids = os.listdir('/content/drive/MyDrive/Graduate/CS263_NLP/FinalProj/MIMIC-CXR-processed/')\n",
    "cnt = 0\n",
    "for i, case in enumerate(cases):\n",
    "  report_path = os.path.join(case, case_ids[i] + '.json')\n",
    "  with open(report_path, 'r') as json_file:\n",
    "    report = json.load(json_file)\n",
    "  if 'INDICATION' in report.keys() and 'FINDINGS' in report.keys() and 'IMPRESSION' in report.keys():\n",
    "    shutil.copytree(case, os.path.join(save_root, case_ids[i]))\n",
    "    cnt += 1\n",
    "print(cnt)"
   ]
  },
  {
   "cell_type": "code",
   "execution_count": null,
   "metadata": {
    "colab": {
     "base_uri": "https://localhost:8080/"
    },
    "id": "dPlke7zwwCRx",
    "outputId": "db61068a-5006-493a-d0f4-5bf88eeeb24e"
   },
   "outputs": [
    {
     "data": {
      "text/plain": [
       "{'EXAMINATION': 'CHEST (PA AND LAT)',\n",
       " 'INDICATION': '___F with new onset ascites  // eval for infection',\n",
       " 'TECHNIQUE': 'Chest PA and lateral',\n",
       " 'COMPARISON': 'None.',\n",
       " 'FINDINGS': 'There is no focal consolidation, pleural effusion or pneumothorax.  Bilateral\\n nodular opacities that most likely represent nipple shadows. The\\n cardiomediastinal silhouette is normal.  Clips project over the left lung,\\n potentially within the breast. The imaged upper abdomen is unremarkable.\\n Chronic deformity of the posterior left sixth and seventh ribs are noted.',\n",
       " 'IMPRESSION': 'No acute cardiopulmonary process.'}"
      ]
     },
     "execution_count": 28,
     "metadata": {},
     "output_type": "execute_result"
    }
   ],
   "source": [
    "import json\n",
    "import re\n",
    "\n",
    "def txt_to_dict(filename):\n",
    "  with open(filename, 'r') as file:\n",
    "      text = file.read()\n",
    "  record = {}\n",
    "  text_orig = text.replace(\"FINAL REPORT\", \"\").strip()\n",
    "  text = text_orig.split('\\n \\n')\n",
    "  # print(text)\n",
    "  track = 0\n",
    "  if 'EXAMINATION' in text_orig:\n",
    "    record['EXAMINATION'] = text[track].split(':')[-1].strip()\n",
    "    track += 1\n",
    "  if 'INDICATION' in text_orig:\n",
    "    record['INDICATION'] = text[track].split(':')[-1].strip()\n",
    "    track += 1\n",
    "  if 'TECHNIQUE' in text_orig:\n",
    "    record['TECHNIQUE'] = text[track].split(':')[-1].strip()\n",
    "    track += 1\n",
    "  if 'COMPARISON' in text_orig:\n",
    "    record['COMPARISON'] = text[track].split(':')[-1].strip()\n",
    "    track += 1\n",
    "  if 'FINDINGS' in text_orig:\n",
    "    record['FINDINGS'] = text_orig.split('FINDINGS:')[-1].strip().split('IMPRESSION:')[0].strip()\n",
    "    # track += 1\n",
    "    # record['FINDINGS'] = text[track].strip()\n",
    "    # track += 1\n",
    "  if 'IMPRESSION' in text_orig:\n",
    "    record['IMPRESSION'] = text_orig.split('IMPRESSION:')[-1].strip()\n",
    "    # track += 1\n",
    "    # record['IMPRESSION'] = text[track].strip()\n",
    "    # track += 1\n",
    "  return record\n",
    "\n",
    "filename = '/content/drive/MyDrive/Graduate/CS263_NLP/FinalProj/MIMIC-CXR/p10000032/s50414267.txt'\n",
    "txt_to_dict(filename)"
   ]
  },
  {
   "cell_type": "code",
   "execution_count": null,
   "metadata": {
    "id": "AzTdbOE3qFgW"
   },
   "outputs": [],
   "source": [
    "import os\n",
    "import pydicom\n",
    "from glob import glob\n",
    "import cv2\n",
    "import json\n",
    "import numpy as np\n",
    "import cv2\n",
    "import shutil\n",
    "root = '/content/drive/MyDrive/Graduate/CS263_NLP/FinalProj/MIMIC-CXR/'\n",
    "save_root = '/content/drive/MyDrive/Graduate/CS263_NLP/FinalProj/MIMIC-CXR-processed/'\n",
    "os.makedirs(save_root, exist_ok=True)\n",
    "\n",
    "patients = glob(os.path.join(root, 'p*'))\n",
    "for patient in patients:\n",
    "  scans = []\n",
    "  for f in os.listdir(patient):\n",
    "    if os.path.isdir(os.path.join(patient, f)):\n",
    "      scans.append(f)\n",
    "  for scan in scans:\n",
    "    # scan_dict = {'imgs': [], 'report': []}\n",
    "    scan_save_path = os.path.join(save_root, scan)\n",
    "    os.makedirs(scan_save_path, exist_ok=True)\n",
    "    imgs_path = os.path.join(save_root, scan, 'imgs')\n",
    "    os.makedirs(imgs_path, exist_ok=True)\n",
    "\n",
    "    report_json_path = os.path.join(scan_save_path, scan + '.json')\n",
    "    print(os.path.join(patient, scan + '.txt'))\n",
    "    report_dict = txt_to_dict(os.path.join(patient, scan + '.txt'))\n",
    "    with open(report_json_path, 'w') as json_file:\n",
    "      json.dump(report_dict, json_file, indent=4)\n",
    "\n",
    "    scan_path = os.path.join(patient, scan)\n",
    "    dcms = glob(os.path.join(scan_path, '*.dcm'))\n",
    "    for dcm in dcms:\n",
    "      img = pydicom.dcmread(dcm).pixel_array\n",
    "      img = (img - img.min()) / (img.max() - img.min())\n",
    "      img = (img * 255).astype(np.uint8)\n",
    "      H, W = img.shape\n",
    "      img = cv2.resize(img, (int(W / 4), int(H / 4)))\n",
    "      cv2.imwrite(os.path.join(imgs_path, os.path.basename(dcm)[:-4] + '.png'), img)"
   ]
  },
  {
   "cell_type": "code",
   "execution_count": null,
   "metadata": {
    "id": "2OVSapaPHHrA"
   },
   "outputs": [],
   "source": [
    "script_content = \"\"\"\n",
    "for i in {10..19}; do\n",
    "    # Get the list of the first two folders within each pXX directory\n",
    "    folder_names=$(wget -q -O - \"https://physionet.org/files/mimic-cxr/2.0.0/files/p$i/\" | \\\n",
    "    grep -oP 'href=\"p\\d+/\"' | \\\n",
    "    sed 's/href=\"//;s|/||' | \\\n",
    "    tail -n 2)\n",
    "\n",
    "    # Loop over the first two folders and download their contents\n",
    "    for folder in $folder_names; do\n",
    "        # Clean up the folder name by removing %22, trailing quotes, and spaces\n",
    "        clean_folder=$(echo \"$folder\" | sed 's/%22//g' | sed 's/\"$//g' | tr -d '[:space:]')\n",
    "\n",
    "        # Print the cleaned folder name and URL to check it\n",
    "        echo \"Processing folder: $clean_folder\"\n",
    "        echo \"URL: https://physionet.org/files/mimic-cxr/2.0.0/files/p$i/$clean_folder/\"\n",
    "\n",
    "        # Use wget to download the folder\n",
    "        wget -r -N -c -np -nH --cut-dirs=5 \"https://physionet.org/files/mimic-cxr/2.0.0/files/p$i/$clean_folder/\"\n",
    "    done\n",
    "done\n",
    "\"\"\"\n",
    "\n",
    "# Write the script content to a file named \"download_folders.sh\"\n",
    "with open(\"download_folders.sh\", \"w\") as file:\n",
    "    file.write(script_content)"
   ]
  },
  {
   "cell_type": "code",
   "execution_count": null,
   "metadata": {
    "id": "mqwlmo8CHVCw"
   },
   "outputs": [],
   "source": [
    "!chmod +x download_folders.sh\n",
    "!./download_folders.sh"
   ]
  }
 ],
 "metadata": {
  "colab": {
   "provenance": []
  },
  "kernelspec": {
   "display_name": "Python 3",
   "name": "python3"
  },
  "language_info": {
   "name": "python"
  }
 },
 "nbformat": 4,
 "nbformat_minor": 0
}
